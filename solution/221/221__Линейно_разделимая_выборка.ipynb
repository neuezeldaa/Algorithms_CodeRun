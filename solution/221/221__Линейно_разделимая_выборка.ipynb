{
  "nbformat": 4,
  "nbformat_minor": 0,
  "metadata": {
    "colab": {
      "provenance": []
    },
    "kernelspec": {
      "name": "python3",
      "display_name": "Python 3"
    },
    "language_info": {
      "name": "python"
    }
  },
  "cells": [
    {
      "cell_type": "markdown",
      "source": [
        "# [Линейно разделимая выборка](https://coderun.yandex.ru/problem/linear-separability-problem/description?compiler=python)\n",
        "\n",
        "В данном Jupyter файле будет собраны основные идеи, которые закладывались в решение задачи, полный код решения будет сохранен на Github [Вот тут (Длинная версия решения без использования сторонних библиотек)](https://github.com/neuezeldaa/Algorithms_CodeRun/blob/main/solution/221/main.py) и [Вот тут (Короткая версия с использованием sci-kit learn)](https://github.com/neuezeldaa/Algorithms_CodeRun/blob/main/solution/221/short_version.py)\n",
        "\n",
        "## Description\n",
        "\n",
        "Пусть имеются $n$ объектов: $X = \\{ x_1, x_2, \\dots , x_n\\}$,\n",
        "каждый из которых представлен вектором вещественных признаков: $x_i \\in \\mathbb{R}^m$.\n",
        "Каждый объект относится к одному из двух классов, так что имеется также набор величин $\\{ y_1, y_2, \\dots , y_n\\}$,\n",
        "таких, что $y_i = +1$, если $x_i$ относится к первому классу, и $y_i = -1$, если $x_i$ относится ко второму классу.\n",
        "Известно, что выборка является линейно разделимой, то есть, существует вектор $a \\in \\mathbb{R}^m$ такой, что:\n",
        "\n",
        "$$\n",
        "\\text{sign } (\\sum\\limits_{j=1}^m a_j * x_ij) = y_j, 1 \\leq j \\leq n.\n",
        "$$\n",
        "\n",
        "Требуется по предоставленной выборке построить любой разделяющий вектор, то есть вектор, удовлетворяющий указанной выше системе уравнений.\n",
        "### Input Format:\n",
        "\n",
        "Входной файл в первой строчке содержит два числа: $n$ и $m$, $1 \\le n \\le 10^4$, $1 \\le m \\le 10$.\n",
        "Каждая из следующих $n$ строчек содержит ровно $(m+1)$ число;\n",
        "первые $m$ чисел каждой строчки представляют значения признаков некоторого объекта,\n",
        "а последнее число строчки — соответствующий этому объекту класс.\n",
        "Разделителем внутри каждой строки является пробел.\n",
        "\n",
        "### Output Format:\n",
        "\n",
        "Выходной файл должен содержать ровно $m$ вещественных чисел, разделённых пробелом — компоненты разделяющей гиперплоскости.\n",
        "\n",
        "\n",
        "## Example Test Cases\n",
        "---\n",
        "### Example 1\n",
        "\n",
        "**Input:**\n",
        "```\n",
        "2 1\n",
        "-1 -1\n",
        "1 1\n",
        "```\n",
        "\n",
        "**Output:**\n",
        "```\n",
        "1\n",
        "```\n",
        "\n",
        "### Example 2\n",
        "\n",
        "**Input:**\n",
        "```\n",
        "3 5\n",
        "1 1 1 1 1 1\n",
        "1 1 1 1 1 1\n",
        "1 1 1 1 1 1\n",
        "```\n",
        "\n",
        "**Output:**\n",
        "```\n",
        "-1 -1 -1 -1 50\n",
        "```\n",
        "\n",
        "### Example 3\n",
        "\n",
        "**Input:**\n",
        "```\n",
        "5 2\n",
        "9.16539 6.11173 1\n",
        "6.77396 1.9927 1\n",
        "8.16425 5.91999 1\n",
        "5.70351 4.99134 1\n",
        "9.8318 1.98502 1\n",
        "\n",
        "```\n",
        "\n",
        "**Output:**\n",
        "```\n",
        "3.14346 6.76429\n",
        "\n",
        "```\n",
        "\n",
        "### Example 4\n",
        "\n",
        "**Input:**\n",
        "```\n",
        "5 5\n",
        "1.7826 4.68275 6.10123 7.32859 7.38209 1\n",
        "4.27658 4.67522 4.81731 5.19996 3.11343 1\n",
        "7.91009 0.640944 6.30974 6.36116 0.81165 1\n",
        "1.05574 8.23438 6.05421 7.44865 1.25079 1\n",
        "1.43015 6.27736 4.77795 5.68318 0.370549 1\n",
        "\n",
        "```\n",
        "\n",
        "**Output:**\n",
        "```\n",
        "9.25372 1.03849 6.72657 2.0464 1.49246\n",
        "\n",
        "```\n",
        "\n",
        "---"
      ],
      "metadata": {
        "id": "b7Uvgjdu-syn"
      }
    },
    {
      "cell_type": "markdown",
      "source": [
        "# Решение задачи"
      ],
      "metadata": {
        "id": "E5cNzJutAozi"
      }
    },
    {
      "cell_type": "markdown",
      "source": [
        "Для начала разберем суть самой задачи. На вход подается два класса: +1 и -1.\n",
        "\n",
        ">Наша цель: Найти такие параметры, при которых выполняются условия построения гиперплоскостей для заданных объектов. Разберем подробнее.\n",
        "\n",
        "На вход первой строкой подаются n и m:\n",
        "\n",
        "> n - количество объектов. Каждый объект является вектором из признаков.\n",
        "> m - Количество признаков в векторе.\n",
        "\n",
        "Даее в n строках идет m признаков в каждой и плюс один - принадлежность объекта к одному из классов (+1 или -1).\n",
        "\n",
        "Для примера разберем **Input:**\n",
        "```\n",
        "2 1\n",
        "-1 -1\n",
        "1 1\n",
        "```\n",
        "\n",
        "Представьте, что здесь -1 - это апельсин, а +1 это яблоко. Всего задается n = 2 объектв: один объект -1 (апельсин), второй объект +1 (яблоко). У каждого из них m = 1 признак. Например, это может быть цвет (-1 это оранжевый, +1 это красный). Думаю, пример понятен.\n",
        "\n",
        "Вывод программы должен состоять из m чисел - параметров для построения гиперплоскости для каждого признака. Придерживаясь примера, нужно найти такое число в уравнении прямой, чтоб на плоскости эта прямая разделяла красный и оранжевый цвет фруктов. Ниже будет приведен график, где можно будет оценить визуально.\n",
        "\n"
      ],
      "metadata": {
        "id": "rKGmIQgiBSVf"
      }
    },
    {
      "cell_type": "markdown",
      "source": [
        "В основе решения задачи используется метод линейной регрессии. В этом методе цель - решить систему нормальных уравнений:\n",
        "\n",
        "$$\n",
        "X^T * Xa = X^T * y\n",
        "$$\n",
        "\n",
        "Где X - матрица признаков, y - вектор классов (-1 и +1) и a - искомый вектор коэффициентов.\n",
        "\n",
        "В решении будет использоваться Регуляризация Тихонова во избежании вырожденности. Описание темы регуляризации требует отдельной статьи, здесь она разбираться не будет.\n",
        "Уравнение с регуляризацией будет выглядеть таким образом:\n",
        "\n",
        "$$\n",
        "(X^T + λ I) a = X^T * y\n",
        "$$\n",
        "\n",
        "λ - это достаточно малое число (10^-6)\n",
        "\n",
        "I - Единичная матрица.\n",
        "\n",
        "Для нахождения параметра *a* воспользуемся методом Гаусса."
      ],
      "metadata": {
        "id": "o5Fsk3pcd4gU"
      }
    },
    {
      "cell_type": "code",
      "source": [
        "# Реализация метода Гаусса\n",
        "def gaussian_elimination(A, b):\n",
        "    n = len(b)\n",
        "    # Прямой ход метода Гаусса\n",
        "    # Поиск строки с максимальным элементом в текущем столбце\n",
        "    for col in range(n):\n",
        "        # Выбор ведущего элемента\n",
        "        max_row = col\n",
        "        for i in range(col+1, n):\n",
        "            if abs(A[i][col]) > abs(A[max_row][col]):\n",
        "                max_row = i\n",
        "\n",
        "        # Перестановка строк\n",
        "        A[col], A[max_row] = A[max_row], A[col]\n",
        "        b[col], b[max_row] = b[max_row], b[col]\n",
        "\n",
        "        # Исключение переменных (прямой ход метода Гаусса)\n",
        "        for i in range(col+1, n):\n",
        "            factor = A[i][col] / A[col][col]\n",
        "            for j in range(col, n):\n",
        "                A[i][j] -= factor * A[col][j]\n",
        "            b[i] -= factor * b[col]\n",
        "\n",
        "    # Обратный ход метода Гаусса (нахождение решения)\n",
        "    x = [0.0] * n\n",
        "    for i in range(n-1, -1, -1):\n",
        "        s = b[i]\n",
        "        for j in range(i+1, n):\n",
        "            s -= A[i][j] * x[j]\n",
        "        x[i] = s / A[i][i]\n",
        "\n",
        "    return x"
      ],
      "metadata": {
        "id": "snAcWcqOhZIY"
      },
      "execution_count": 6,
      "outputs": []
    },
    {
      "cell_type": "code",
      "source": [
        "n = int(data[0])  # Количество объектов\n",
        "m = int(data[1])  # Количество признаков\n",
        "\n",
        "X = []  # Матрица признаков\n",
        "y = []  # Вектор меток классов\n",
        "\n",
        "index = 2\n",
        "for i in range(n):\n",
        "   features = list(map(float, data[index:index+m]))\n",
        "   X.append(features)\n",
        "   y.append(float(data[index+m]))\n",
        "   index += m + 1\n",
        "\n",
        "# Вычисление X^T * X\n",
        "XT_X = [[0.0] * m for _ in range(m)]\n",
        "for i in range(m):\n",
        "   for j in range(m):\n",
        "       for k in range(n):\n",
        "           XT_X[i][j] += X[k][i] * X[k][j]\n",
        "\n",
        "# Вычисление X^T * y\n",
        "XT_y = [0.0] * m\n",
        "for i in range(m):\n",
        "    for k in range(n):\n",
        "        XT_y[i] += X[k][i] * y[k]\n",
        "\n",
        "# Добавление регуляризации (лямбда = 1e-6)\n",
        "for i in range(m):\n",
        "    XT_X[i][i] += 1e-6\n",
        "\n",
        "# Решение системы уравнений\n",
        "a = gaussian_elimination(XT_X, XT_y)\n",
        "\n",
        "# Форматирование результата\n",
        "result = \" \".join(f\"{x:.8f}\" for x in a)\n",
        "print(result)"
      ],
      "metadata": {
        "collapsed": true,
        "id": "tR7xPkZ-iIai"
      },
      "execution_count": null,
      "outputs": []
    },
    {
      "cell_type": "markdown",
      "source": [
        "На выходе мы получаем верно подобранные компоненты разделяющей гиперплоскости."
      ],
      "metadata": {
        "id": "BTeDB40VkpHF"
      }
    },
    {
      "cell_type": "markdown",
      "source": [
        "Весь код, прописанный ранее можно сократить до:"
      ],
      "metadata": {
        "id": "WIM7RK-DlB4h"
      }
    },
    {
      "cell_type": "code",
      "source": [
        "from sklearn.linear_model import LinearRegression\n",
        "\n",
        "def main():\n",
        "    n, m = map(int, input().split())\n",
        "    X, y = [], []\n",
        "    for _ in range(n):\n",
        "        row = list(map(float, input().split()))\n",
        "        X.append(row[:-1])\n",
        "        y.append(row[-1])\n",
        "\n",
        "    model = LinearRegression(fit_intercept=False)\n",
        "    model.fit(X, y)\n",
        "\n",
        "    print(' '.join(map(str, model.coef_)))\n",
        "\n",
        "\n",
        "if __name__ == '__main__':\n",
        "    main()"
      ],
      "metadata": {
        "id": "gmJD0A7RlFqu"
      },
      "execution_count": null,
      "outputs": []
    },
    {
      "cell_type": "markdown",
      "source": [
        "Но ради понимания работы линейной регрессии я решил прописать полностью ходы решения."
      ],
      "metadata": {
        "id": "Y6v4iRhZlGrK"
      }
    },
    {
      "cell_type": "markdown",
      "source": [
        "Разберем пример, когд на вход поступает:\n",
        "\n",
        "\n",
        "```\n",
        "2 1\n",
        "-1 -1\n",
        "1 1\n",
        "```\n",
        "В этом случае, как я уже говорил ранее, -1 = апельсины, +1 = яблоки. Нам их надо разделить так, чтоб не путать на столе :)\n",
        "\n",
        "\n"
      ],
      "metadata": {
        "id": "x4VJQhQSnZgO"
      }
    },
    {
      "cell_type": "code",
      "source": [
        "import matplotlib.pyplot as plt\n",
        "import numpy as np\n",
        "\n",
        "# Данные\n",
        "X = np.array([-1, 1])  # Признаки (1D)\n",
        "y = np.array([-1, 1])   # Метки классов\n",
        "\n",
        "# Находим разделяющую \"гиперплоскость\" (для 1D это точка)\n",
        "a = 1.0  # Решение уравнения a*x=0 => x=0 (т.к. a=1)\n",
        "decision_point = 0.0\n",
        "\n",
        "# Создаем график\n",
        "plt.figure(figsize=(10, 2))\n",
        "\n",
        "# Рисуем точки данных\n",
        "plt.scatter(X[y == -1], [0]*len(X[y == -1]), color='red', s=100, label='Класс -1')\n",
        "plt.scatter(X[y == 1], [0]*len(X[y == 1]), color='green', s=100, label='Класс +1')\n",
        "\n",
        "# Рисуем разделяющую точку (гиперплоскость в 1D)\n",
        "plt.axvline(x=decision_point, color='blue', linestyle='-', label='Разделяющая точка x=0')\n",
        "\n",
        "# Настройки графика\n",
        "plt.yticks([])  # Скрываем ось Y (не нужна для 1D)\n",
        "plt.xlabel('Значение признака x')\n",
        "plt.title('Гиперплоскость')\n",
        "plt.grid(True, linestyle='--', alpha=0.7)\n",
        "plt.xlim(-1.5, 1.5)\n",
        "plt.show()\n"
      ],
      "metadata": {
        "colab": {
          "base_uri": "https://localhost:8080/",
          "height": 256
        },
        "id": "dWmWgJTHqUHh",
        "outputId": "18a3c677-0d71-4018-eb5e-692c6973195b"
      },
      "execution_count": 31,
      "outputs": [
        {
          "output_type": "display_data",
          "data": {
            "text/plain": [
              "<Figure size 1000x200 with 1 Axes>"
            ],
            "image/png": "[encoded data removed]"
          },
          "metadata": {}
        }
      ]
    },
    {
      "cell_type": "markdown",
      "source": [
        "Из рисунка видно, что -1 - это апельсин слева, +1 - это яблоко справа. Мы их разделили так, чтоб между ними шла гиперплоскость - разделяющая прямая."
      ],
      "metadata": {
        "id": "3gCDlZVXqrWb"
      }
    },
    {
      "cell_type": "markdown",
      "source": [
        "Конец!"
      ],
      "metadata": {
        "id": "z94j6fUcq1Sc"
      }
    }
  ]
}
